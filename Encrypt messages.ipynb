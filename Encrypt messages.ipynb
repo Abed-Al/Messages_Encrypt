{
 "cells": [
  {
   "cell_type": "code",
   "execution_count": null,
   "id": "6ec671cd",
   "metadata": {},
   "outputs": [],
   "source": []
  },
  {
   "cell_type": "code",
   "execution_count": 20,
   "id": "28102951",
   "metadata": {},
   "outputs": [],
   "source": [
    "alphabet = 'abcdefghijklmnopqrstuvwxyz'"
   ]
  },
  {
   "cell_type": "code",
   "execution_count": 21,
   "id": "6f30a33d",
   "metadata": {},
   "outputs": [
    {
     "data": {
      "text/plain": [
       "26"
      ]
     },
     "execution_count": 21,
     "metadata": {},
     "output_type": "execute_result"
    }
   ],
   "source": [
    "len(alphabet)"
   ]
  },
  {
   "cell_type": "code",
   "execution_count": 22,
   "id": "8a0f2525",
   "metadata": {},
   "outputs": [],
   "source": [
    "message = 'hello'"
   ]
  },
  {
   "cell_type": "code",
   "execution_count": 23,
   "id": "f5fb3a21",
   "metadata": {},
   "outputs": [
    {
     "name": "stdout",
     "output_type": "stream",
     "text": [
      "khoor\n"
     ]
    }
   ],
   "source": [
    "# basic build up the encrypt function\n",
    "\n",
    "output = ''\n",
    "for each in message:\n",
    "    alpha_index = alphabet.find(each)\n",
    "    output = output + alphabet[alpha_index+3]\n",
    "print(output)"
   ]
  },
  {
   "cell_type": "code",
   "execution_count": 24,
   "id": "0ec06e11",
   "metadata": {},
   "outputs": [],
   "source": [
    "def shift_amount(i):\n",
    "    '''This will determine the shift, taking into account length of the alphabet.'''\n",
    "    return i%26"
   ]
  },
  {
   "cell_type": "code",
   "execution_count": 25,
   "id": "b186d311",
   "metadata": {},
   "outputs": [],
   "source": [
    "new_mes = \"Python is an interpreted high-level general-purpose programming language.\\\n",
    "Its design philosophy emphasizes code readability with its use of significant indentation.\\\n",
    "Its language constructs as well as its object-oriented approach aim to help programmers write clear,\\\n",
    "logical code for small and large-scale projects.[31]\\Python is dynamically-typed and garbage-collected.\\\n",
    "It supports multiple programming paradigms, including structured (particularly, procedural),\\\n",
    "object-oriented and functional programming. It is often described as a batteries included\\\n",
    "language due to its comprehensive standard library.[32] Guido van Rossum began working on Python in the late 1980s,\\\n",
    "as a successor to the ABC programming language, and first released it in 1991 as Python 0.9.0.[33]\\\n",
    "Python 2.0 was released in 2000 and introduced new features,\\\n",
    "such as list comprehensions and a garbage collection system using reference counting.\\\n",
    "Python 3.0 was released in 2008 and was a major revision of the language that is not completely backward-compatible.\\\n",
    "Python 2 was discontinued with version 2.7.18 in 2020 \""
   ]
  },
  {
   "cell_type": "code",
   "execution_count": 26,
   "id": "af86b466",
   "metadata": {},
   "outputs": [],
   "source": [
    "# Build function to encrypt messages, by shifting each letter in the text from its position \n",
    "# to the new position with the number of shifts the user choose.\n",
    "\n",
    "def encrypt (message,required_shift):\n",
    "    new_message = ''\n",
    "    message = message.lower()\n",
    "    for each in message:\n",
    "        if each not in alphabet:\n",
    "            new_message = new_message + each\n",
    "        else:\n",
    "            alpha_index = alphabet.find(each)\n",
    "            new_message = new_message + alphabet[shift_amount(alpha_index+required_shift)]\n",
    "    return new_message"
   ]
  },
  {
   "cell_type": "code",
   "execution_count": 27,
   "id": "1a59345b",
   "metadata": {},
   "outputs": [],
   "source": [
    "encrypt_message = encrypt(new_mes,1200)"
   ]
  },
  {
   "cell_type": "code",
   "execution_count": 28,
   "id": "b4363257",
   "metadata": {},
   "outputs": [
    {
     "name": "stdout",
     "output_type": "stream",
     "text": [
      "tcxlsr mw er mrxivtvixih lmkl-pizip kirivep-tyvtswi tvskveqqmrk perkyeki.mxw hiwmkr tlmpswstlc iqtlewmdiw gshi viehefmpmxc amxl mxw ywi sj wmkrmjmgerx mrhirxexmsr.mxw perkyeki gsrwxvygxw ew aipp ew mxw sfnigx-svmirxih ettvsegl emq xs lipt tvskveqqivw avmxi gpiev,pskmgep gshi jsv wqepp erh pevki-wgepi tvsnigxw.[31]\\tcxlsr mw hcreqmgeppc-xctih erh kevfeki-gsppigxih.mx wyttsvxw qypxmtpi tvskveqqmrk tevehmkqw, mrgpyhmrk wxvygxyvih (tevxmgypevpc, tvsgihyvep),sfnigx-svmirxih erh jyrgxmsrep tvskveqqmrk. mx mw sjxir hiwgvmfih ew e fexxivmiw mrgpyhihperkyeki hyi xs mxw gsqtvilirwmzi wxerhevh pmfvevc.[32] kymhs zer vswwyq fiker asvomrk sr tcxlsr mr xli pexi 1980w,ew e wyggiwwsv xs xli efg tvskveqqmrk perkyeki, erh jmvwx vipiewih mx mr 1991 ew tcxlsr 0.9.0.[33]tcxlsr 2.0 aew vipiewih mr 2000 erh mrxvshygih ria jiexyviw,wygl ew pmwx gsqtvilirwmsrw erh e kevfeki gsppigxmsr wcwxiq ywmrk vijivirgi gsyrxmrk.tcxlsr 3.0 aew vipiewih mr 2008 erh aew e qensv vizmwmsr sj xli perkyeki xlex mw rsx gsqtpixipc fegoaevh-gsqtexmfpi.tcxlsr 2 aew hmwgsrxmryih amxl zivwmsr 2.7.18 mr 2020 \n"
     ]
    }
   ],
   "source": [
    "print(encrypt_message)"
   ]
  },
  {
   "cell_type": "code",
   "execution_count": 29,
   "id": "5f163672",
   "metadata": {},
   "outputs": [],
   "source": [
    "original_message = encrypt(encrypt_message,-1200)"
   ]
  },
  {
   "cell_type": "code",
   "execution_count": 30,
   "id": "15a4e77d",
   "metadata": {},
   "outputs": [
    {
     "data": {
      "text/plain": [
       "'python is an interpreted high-level general-purpose programming language.its design philosophy emphasizes code readability with its use of significant indentation.its language constructs as well as its object-oriented approach aim to help programmers write clear,logical code for small and large-scale projects.[31]\\\\python is dynamically-typed and garbage-collected.it supports multiple programming paradigms, including structured (particularly, procedural),object-oriented and functional programming. it is often described as a batteries includedlanguage due to its comprehensive standard library.[32] guido van rossum began working on python in the late 1980s,as a successor to the abc programming language, and first released it in 1991 as python 0.9.0.[33]python 2.0 was released in 2000 and introduced new features,such as list comprehensions and a garbage collection system using reference counting.python 3.0 was released in 2008 and was a major revision of the language that is not completely backward-compatible.python 2 was discontinued with version 2.7.18 in 2020 '"
      ]
     },
     "execution_count": 30,
     "metadata": {},
     "output_type": "execute_result"
    }
   ],
   "source": [
    "original_message"
   ]
  },
  {
   "cell_type": "code",
   "execution_count": null,
   "id": "9ae31883",
   "metadata": {},
   "outputs": [],
   "source": []
  }
 ],
 "metadata": {
  "kernelspec": {
   "display_name": "Python 3",
   "language": "python",
   "name": "python3"
  },
  "language_info": {
   "codemirror_mode": {
    "name": "ipython",
    "version": 3
   },
   "file_extension": ".py",
   "mimetype": "text/x-python",
   "name": "python",
   "nbconvert_exporter": "python",
   "pygments_lexer": "ipython3",
   "version": "3.8.8"
  }
 },
 "nbformat": 4,
 "nbformat_minor": 5
}
